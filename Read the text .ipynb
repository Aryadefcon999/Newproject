{
 "cells": [
  {
   "cell_type": "code",
   "execution_count": 1,
   "id": "ba3411b4",
   "metadata": {},
   "outputs": [],
   "source": [
    "from PyPDF2 import PdfFileReader, PdfFileWriter\n",
    "import PyPDF2\n",
    "import pandas as pd"
   ]
  },
  {
   "cell_type": "code",
   "execution_count": 2,
   "id": "8f975644",
   "metadata": {},
   "outputs": [
    {
     "data": {
      "text/plain": [
       "363"
      ]
     },
     "execution_count": 2,
     "metadata": {},
     "output_type": "execute_result"
    }
   ],
   "source": [
    "pdf =open('infosys-ar-22.pdf','rb')\n",
    "page_1_object= PyPDF2.PdfFileReader(pdf)\n",
    "page_1_object.numPages"
   ]
  },
  {
   "cell_type": "code",
   "execution_count": 4,
   "id": "43cdffb9",
   "metadata": {
    "scrolled": true
   },
   "outputs": [
    {
     "name": "stdout",
     "output_type": "stream",
     "text": [
      "Data from  pg\n",
      "  Infosys Integrated Annual Report 2021-22158\n",
      "Introduction Delivering \n",
      "valueGovernanceBRSRStatutory \n",
      "reports\n",
      "\n",
      "Financial \n",
      "statements\n",
      "CG Report\n",
      "Strategy \n",
      "reviewApproaching \n",
      "value creation\n",
      "Our Company upholds integrity and transparency in all transactions and communications to \n",
      "stakeholders. Our stakeholders are our partners in the path to sustained value creation and \n",
      "therefore, our relationship with stakeholders and clear communication with them is at the centre \n",
      "of all disclosures and reports. The stakeholders are privy to all actions and decisions of the Board.\n",
      "\n",
      "\n",
      "Corporate\n",
      "Infosys was incorporated in Pune, in 1981, as Infosys Consultants \n",
      "Private Limited, a private limited company under the Companies \n",
      "Act, 1956. In 1983, the corporate headquarters were relocated \n",
      "to Bengaluru. The name of the Company was changed to \n",
      "Infosys Technologies Private Limited in April 1992 and to Infosys \n",
      "Technologies Limited in June 1992, when the Company became a \n",
      "public limited company. We made an initial public offering (IPO) \n",
      "in February 1993 and were listed on stock exchanges in India in \n",
      "June 1993. Trading opened at ₹145 per share, compared to the \n",
      "IPO price of ₹95 per share. In October 1994, we made a private \n",
      "placement of 5,50,000 shares at ₹450 each to Foreign Institutional \n",
      "Investors (FIIs), Financial Institutions (FIs) and body corporates.\n",
      "In March 1999, we issued 20,70,000 American Depositary Shares \n",
      "(ADSs) (equivalent to 10,35,000 equity shares of par value ₹10 \n",
      "each) at US$ 34 per ADS under the ADS Program, and these ADSs \n",
      "were listed on the NASDAQ National Market.The share data mentioned before is unadjusted for stock split \n",
      "and bonus shares. In July 2003, June 2005 and November \n",
      "2006, we issued secondary-sponsored American Depositary \n",
      "Receipts (ADRs) of US$ 294 million, US$ 1.1 billion and US$ 1.6 \n",
      "billion, respectively.\n",
      "During fiscal 2012, the name of the Company was changed \n",
      "from Infosys Technologies Limited to Infosys Limited to mark \n",
      "the transition from being a technology services provider to a \n",
      "business transformation partner to our clients.\n",
      "During fiscal 2013, we delisted our ADSs from NASDAQ, and \n",
      "listed them in the New York Stock Exchange (NYSE), Euronext \n",
      "London and Euronext Paris. During fiscal 2019, the Company \n",
      "voluntarily delisted from Euronext London and Paris due \n",
      "to low trading volume.\n",
      "Infosys equity shares and ADSs are listed on NSE and BSE in India \n",
      "and in NYSE, respectively, under the symbol “INFY”. \n",
      "Bonus issues and stock split\n",
      "\n",
      "\n",
      "No. of shares\n",
      "12481632641281,0242,0484,0968,19216,384\n",
      "02,0004,0006,0008,00010,00012,00016,000\n",
      "14,00018,000\n",
      "BonusBonusBonusBonusBonusBonusBonusStock\n",
      "SplitBonusBonusBonusBonusBonus\n",
      "1:11:11:11:11:11:11:11:11:11:11:13:1 256\n",
      "Corporate action \n",
      "2:1Prior to\n",
      "19861986198919911992199419971999200020052007201520162019\n",
      "Integrity and transparency \n",
      "& \n",
      "Relationship with stakeholders\n",
      "\n",
      "\n",
      "Note:\n",
      "The above graph depicts the increase in the number of Infosys shares as a result of the Company’s bonus issues over the years and a stock split in 2000 in the ratio \n",
      "of 2:1. For example, if the investor / shareholder held one share in 1986 prior to the bonus issue and continued to hold it, he would have 16,384 shares today owing \n",
      "to the bonus share issues and stock split.\n"
     ]
    }
   ],
   "source": [
    " # Create pdf file reader object\n",
    "pdf = PdfFileReader('infosys-ar-22.pdf')\n",
    "    # TWO STEPS TO EXTRACT TEXT \n",
    "#     # Step 1: Grab the Page(s)\n",
    "page_1_object = pdf.getPage(124)\n",
    "# pdf.get_\n",
    "    # Step 2: Extract Text\n",
    "page_1_text = page_1_object.extractText()\n",
    "print(\"Data from  pg\\n\",page_1_text)\n",
    "\n"
   ]
  },
  {
   "cell_type": "code",
   "execution_count": 6,
   "id": "97842cab",
   "metadata": {},
   "outputs": [],
   "source": [
    "str = \"\"\n",
    "for i in range(124,125):\n",
    "   str += pdf.getPage(i).extract_text()\n",
    "with open(\"infoText.txt\", \"w\", encoding=\"utf_8\") as f:\n",
    "    f.write(str)\n",
    "# page_2_text = page_2_object.extract_text()\n",
    "    \n"
   ]
  },
  {
   "cell_type": "code",
   "execution_count": 9,
   "id": "ba99c978",
   "metadata": {},
   "outputs": [],
   "source": [
    "df=pd.read_csv(\"infoText.txt\",on_bad_lines=\"skip\")\n",
    "# #on_bad_lines : {'error', 'warn', 'skip'} or callable, default 'error'\n",
    "#     Specifies what to do upon encountering a bad line (a line with too many fields).\n",
    "#     Allowed values are :\n",
    "\n",
    "#         - 'error', raise an Exception when a bad line is encountered.\n",
    "#         - 'warn', raise a warning when a bad line is encountered and skip that line.\n",
    "#         - 'skip', skip bad lines without raising or warning when they are encountered."
   ]
  },
  {
   "cell_type": "code",
   "execution_count": 10,
   "id": "1da170cd",
   "metadata": {},
   "outputs": [],
   "source": [
    "df.to_csv(\"infoText.csv\")"
   ]
  },
  {
   "cell_type": "code",
   "execution_count": null,
   "id": "10204dcf",
   "metadata": {},
   "outputs": [],
   "source": [
    "# print(\"Data from the page 125\\n\",page_2_text,flush=True)"
   ]
  },
  {
   "cell_type": "code",
   "execution_count": null,
   "id": "012b96bb",
   "metadata": {},
   "outputs": [],
   "source": []
  }
 ],
 "metadata": {
  "kernelspec": {
   "display_name": "Python 3 (ipykernel)",
   "language": "python",
   "name": "python3"
  },
  "language_info": {
   "codemirror_mode": {
    "name": "ipython",
    "version": 3
   },
   "file_extension": ".py",
   "mimetype": "text/x-python",
   "name": "python",
   "nbconvert_exporter": "python",
   "pygments_lexer": "ipython3",
   "version": "3.9.12"
  }
 },
 "nbformat": 4,
 "nbformat_minor": 5
}
